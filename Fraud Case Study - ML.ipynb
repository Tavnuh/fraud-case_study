{
 "cells": [
  {
   "cell_type": "code",
   "execution_count": 99,
   "metadata": {},
   "outputs": [],
   "source": [
    "import pandas as pd\n",
    "import numpy as np\n",
    "import matplotlib.pyplot as plt\n",
    "import seaborn as sns\n",
    "\n",
    "plt.style.use('seaborn')\n",
    "%matplotlib inline\n",
    "\n",
    "from statsmodels.stats.outliers_influence import variance_inflation_factor\n",
    "\n",
    "#models\n",
    "from sklearn.ensemble import RandomForestClassifier\n",
    "\n",
    "#transformers\n",
    "from sklearn.compose import ColumnTransformer\n",
    "from sklearn.preprocessing import OneHotEncoder\n",
    "from sklearn.model_selection import train_test_split\n",
    "from sklearn.preprocessing import StandardScaler\n",
    "\n",
    "#evaluation metrics\n",
    "from sklearn.metrics import confusion_matrix\n",
    "from sklearn.metrics import f1_score\n",
    "from sklearn.metrics import classification_report\n",
    "from sklearn.metrics import auc \n",
    "from sklearn.metrics import precision_recall_curve\n",
    "\n",
    "import ppscore as pps\n",
    "\n",
    "import re\n",
    "import Levenshtein"
   ]
  },
  {
   "cell_type": "markdown",
   "metadata": {},
   "source": [
    "### Reading in the data"
   ]
  },
  {
   "cell_type": "code",
   "execution_count": 42,
   "metadata": {},
   "outputs": [],
   "source": [
    "df = pd.read_csv('data.csv',encoding='latin-1')"
   ]
  },
  {
   "cell_type": "markdown",
   "metadata": {},
   "source": [
    "### Fraud Rate of dataset"
   ]
  },
  {
   "cell_type": "code",
   "execution_count": 92,
   "metadata": {},
   "outputs": [
    {
     "data": {
      "text/plain": [
       "11.50165772696562"
      ]
     },
     "execution_count": 92,
     "metadata": {},
     "output_type": "execute_result"
    }
   ],
   "source": [
    "df.groupby('is_fraud')['purchase_amount'].sum()[1] / df.groupby('is_fraud')['purchase_amount'].sum()[0] * 100"
   ]
  },
  {
   "cell_type": "markdown",
   "metadata": {},
   "source": [
    "### Cleaning operations"
   ]
  },
  {
   "cell_type": "code",
   "execution_count": 43,
   "metadata": {},
   "outputs": [],
   "source": [
    "#strip whitespace from column names\n",
    "df = df.rename(columns=lambda x: x.strip())\n",
    "\n",
    "#strip whitespace from values\n",
    "df = df.apply(lambda x: x.str.strip() if x.dtype == \"object\" else x)\n",
    "\n",
    "#replace '-' in annual salary with 0\n",
    "df['annual_salary'] = df['annual_salary'].replace('-',0)\n",
    "\n",
    "#convert annual salary to int type\n",
    "df['annual_salary'] = df['annual_salary'].astype('int64')\n",
    "\n",
    "#replace NaNs in the IP country column, as missing values here may also be as valuable\n",
    "df['ip_country'] = df['ip_country'].fillna('N/A')"
   ]
  },
  {
   "cell_type": "markdown",
   "metadata": {},
   "source": [
    "### Feature Engineering"
   ]
  },
  {
   "cell_type": "code",
   "execution_count": 44,
   "metadata": {},
   "outputs": [],
   "source": [
    "#Get the purchase amount as a percentage of the reported salary\n",
    "df['purchase_div_salary'] = (df.query('purchase_amount > 0')['purchase_amount'] / df.query('annual_salary >0')['annual_salary']*100)\n",
    "\n",
    "#Get the purchase hour from time_of_purchase \n",
    "df[['purchase_hour','minute','second']] = df['time_of_purchase'].str.split(':',expand=True)\n",
    "df.drop(columns=['minute','second'],inplace=True)\n",
    "\n",
    "#get full name from fname and lname\n",
    "df['full_name'] = df.fname + ' ' + df.lname\n",
    "\n",
    "\n",
    "\n",
    "#A method for calculating the similarity of emails to customer names\n",
    "#This function strips out punctuation and numbers from emails, then calculates the Levenshtein distance between the name and email\n",
    "#Levenshtein distance is the number of single character changes to get from one string to another\n",
    "\n",
    "def compare_email_name(email, name):\n",
    "    name = name\n",
    "    email = email\n",
    "\n",
    "    lower_name = str.lower(name)\n",
    "    lower_email = str.lower(str.split(email,'@')[0])\n",
    "    nopunc_email = re.sub('[!@#$%^&*()-=+.,]', ' ', lower_email)\n",
    "    nonum_email = re.sub(r'[0-9]+', '', nopunc_email).strip()\n",
    "\n",
    "    distance = round(Levenshtein.distance(lower_name,nonum_email) / len(email),1)\n",
    "    #print(f'The name {lower_name} is {distance} characters different to the email {email}')\n",
    "    return distance\n",
    "\n",
    "full_names = []\n",
    "emails = []\n",
    "lev_distances = []\n",
    "\n",
    "for i in range(len(df)):\n",
    "    full_names.append(df['full_name'][i])\n",
    "    emails.append(df['email'][i])\n",
    "    lev_distances.append(compare_email_name(df['email'][i],df['full_name'][i]))\n",
    "\n",
    "df['lev_distance'] = lev_distances\n",
    "\n",
    "#fillna with mean for the num_vars df for the purpose of the VIF calculation\n",
    "df['purchase_div_salary'] = df['purchase_div_salary'].fillna(df['purchase_div_salary'].mean())"
   ]
  },
  {
   "cell_type": "code",
   "execution_count": 45,
   "metadata": {},
   "outputs": [],
   "source": [
    "#creating a Domain column from the email address column\n",
    "\n",
    "df['domain'] = df['email'].str.split('@').str[1]\n",
    "df['domain'] = df['domain'].str.replace('.','')"
   ]
  },
  {
   "cell_type": "code",
   "execution_count": 46,
   "metadata": {},
   "outputs": [],
   "source": [
    "#converting has_paid_before from f and t to 0 and 1\n",
    "df['has_paid_before'].replace('f',0, inplace=True)\n",
    "df['has_paid_before'].replace('t',1, inplace=True)\n",
    "\n",
    "#converting is_fraud from f and t to 0 and 1\n",
    "df['is_fraud'].replace('f',0, inplace=True)\n",
    "df['is_fraud'].replace('t',1, inplace=True)\n"
   ]
  },
  {
   "cell_type": "markdown",
   "metadata": {},
   "source": [
    "### Severe class imbalance\n",
    "\n",
    "After working through a few models and seeing where I can get with the data as is, I'll be revisiting this with a few methods of how to address the class imbalance"
   ]
  },
  {
   "cell_type": "markdown",
   "metadata": {},
   "source": [
    "### Variance Inflation Factor"
   ]
  },
  {
   "cell_type": "code",
   "execution_count": 47,
   "metadata": {},
   "outputs": [],
   "source": [
    "def calc_vif(X):\n",
    "\n",
    "    # Calculating VIF\n",
    "    vif = pd.DataFrame()\n",
    "    vif[\"variables\"] = X.columns\n",
    "    vif[\"VIF\"] = [variance_inflation_factor(X.values, i) for i in range(X.shape[1])]\n",
    "\n",
    "    return(vif)\n"
   ]
  },
  {
   "cell_type": "code",
   "execution_count": 48,
   "metadata": {},
   "outputs": [],
   "source": [
    "num_vars = df.select_dtypes(include=('int64','float64','int32'))\n",
    "#adding a constant to num_vars\n",
    "num_vars = num_vars.assign(const=1)"
   ]
  },
  {
   "cell_type": "code",
   "execution_count": 49,
   "metadata": {},
   "outputs": [
    {
     "data": {
      "text/html": [
       "<div>\n",
       "<style scoped>\n",
       "    .dataframe tbody tr th:only-of-type {\n",
       "        vertical-align: middle;\n",
       "    }\n",
       "\n",
       "    .dataframe tbody tr th {\n",
       "        vertical-align: top;\n",
       "    }\n",
       "\n",
       "    .dataframe thead th {\n",
       "        text-align: right;\n",
       "    }\n",
       "</style>\n",
       "<table border=\"1\" class=\"dataframe\">\n",
       "  <thead>\n",
       "    <tr style=\"text-align: right;\">\n",
       "      <th></th>\n",
       "      <th>variables</th>\n",
       "      <th>VIF</th>\n",
       "    </tr>\n",
       "  </thead>\n",
       "  <tbody>\n",
       "    <tr>\n",
       "      <th>0</th>\n",
       "      <td>transaction_id</td>\n",
       "      <td>1.034264</td>\n",
       "    </tr>\n",
       "    <tr>\n",
       "      <th>1</th>\n",
       "      <td>purchase_amount</td>\n",
       "      <td>1.151451</td>\n",
       "    </tr>\n",
       "    <tr>\n",
       "      <th>2</th>\n",
       "      <td>customer_id</td>\n",
       "      <td>1.011201</td>\n",
       "    </tr>\n",
       "    <tr>\n",
       "      <th>3</th>\n",
       "      <td>age</td>\n",
       "      <td>1.004042</td>\n",
       "    </tr>\n",
       "    <tr>\n",
       "      <th>4</th>\n",
       "      <td>has_paid_before</td>\n",
       "      <td>1.305417</td>\n",
       "    </tr>\n",
       "    <tr>\n",
       "      <th>5</th>\n",
       "      <td>annual_salary</td>\n",
       "      <td>1.034812</td>\n",
       "    </tr>\n",
       "    <tr>\n",
       "      <th>6</th>\n",
       "      <td>is_fraud</td>\n",
       "      <td>1.435930</td>\n",
       "    </tr>\n",
       "    <tr>\n",
       "      <th>7</th>\n",
       "      <td>purchase_div_salary</td>\n",
       "      <td>1.136105</td>\n",
       "    </tr>\n",
       "    <tr>\n",
       "      <th>8</th>\n",
       "      <td>lev_distance</td>\n",
       "      <td>1.145989</td>\n",
       "    </tr>\n",
       "    <tr>\n",
       "      <th>9</th>\n",
       "      <td>const</td>\n",
       "      <td>2874.561104</td>\n",
       "    </tr>\n",
       "  </tbody>\n",
       "</table>\n",
       "</div>"
      ],
      "text/plain": [
       "             variables          VIF\n",
       "0       transaction_id     1.034264\n",
       "1      purchase_amount     1.151451\n",
       "2          customer_id     1.011201\n",
       "3                  age     1.004042\n",
       "4      has_paid_before     1.305417\n",
       "5        annual_salary     1.034812\n",
       "6             is_fraud     1.435930\n",
       "7  purchase_div_salary     1.136105\n",
       "8         lev_distance     1.145989\n",
       "9                const  2874.561104"
      ]
     },
     "execution_count": 49,
     "metadata": {},
     "output_type": "execute_result"
    }
   ],
   "source": [
    "X = num_vars\n",
    "calc_vif(X)"
   ]
  },
  {
   "cell_type": "code",
   "execution_count": 50,
   "metadata": {},
   "outputs": [
    {
     "data": {
      "text/html": [
       "<div>\n",
       "<style scoped>\n",
       "    .dataframe tbody tr th:only-of-type {\n",
       "        vertical-align: middle;\n",
       "    }\n",
       "\n",
       "    .dataframe tbody tr th {\n",
       "        vertical-align: top;\n",
       "    }\n",
       "\n",
       "    .dataframe thead th {\n",
       "        text-align: right;\n",
       "    }\n",
       "</style>\n",
       "<table border=\"1\" class=\"dataframe\">\n",
       "  <thead>\n",
       "    <tr style=\"text-align: right;\">\n",
       "      <th></th>\n",
       "      <th>transaction_id</th>\n",
       "      <th>time_of_purchase</th>\n",
       "      <th>purchase_amount</th>\n",
       "      <th>customer_id</th>\n",
       "      <th>fname</th>\n",
       "      <th>lname</th>\n",
       "      <th>age</th>\n",
       "      <th>addr_city</th>\n",
       "      <th>email</th>\n",
       "      <th>has_paid_before</th>\n",
       "      <th>annual_salary</th>\n",
       "      <th>type_of_goods</th>\n",
       "      <th>delivery_city</th>\n",
       "      <th>ip_country</th>\n",
       "      <th>is_fraud</th>\n",
       "      <th>purchase_div_salary</th>\n",
       "      <th>purchase_hour</th>\n",
       "      <th>full_name</th>\n",
       "      <th>lev_distance</th>\n",
       "      <th>domain</th>\n",
       "    </tr>\n",
       "  </thead>\n",
       "  <tbody>\n",
       "    <tr>\n",
       "      <th>0</th>\n",
       "      <td>2001563</td>\n",
       "      <td>16:52:11</td>\n",
       "      <td>15249</td>\n",
       "      <td>3941</td>\n",
       "      <td>Agneta</td>\n",
       "      <td>Jansson</td>\n",
       "      <td>28</td>\n",
       "      <td>Stockholm</td>\n",
       "      <td>agneta.jansson@hotmail.com</td>\n",
       "      <td>1</td>\n",
       "      <td>0</td>\n",
       "      <td>Clothing</td>\n",
       "      <td>Stockholm</td>\n",
       "      <td>SE</td>\n",
       "      <td>0</td>\n",
       "      <td>14.079045</td>\n",
       "      <td>16</td>\n",
       "      <td>Agneta Jansson</td>\n",
       "      <td>0.0</td>\n",
       "      <td>hotmailcom</td>\n",
       "    </tr>\n",
       "    <tr>\n",
       "      <th>1</th>\n",
       "      <td>1997663</td>\n",
       "      <td>14:20:45</td>\n",
       "      <td>9334</td>\n",
       "      <td>122158</td>\n",
       "      <td>Agneta</td>\n",
       "      <td>Gustafsson</td>\n",
       "      <td>73</td>\n",
       "      <td>Malmo</td>\n",
       "      <td>agneta_gustafsson@gmail.com</td>\n",
       "      <td>0</td>\n",
       "      <td>340000</td>\n",
       "      <td>Dating</td>\n",
       "      <td>Malmo</td>\n",
       "      <td>SE</td>\n",
       "      <td>0</td>\n",
       "      <td>2.745294</td>\n",
       "      <td>14</td>\n",
       "      <td>Agneta Gustafsson</td>\n",
       "      <td>0.0</td>\n",
       "      <td>gmailcom</td>\n",
       "    </tr>\n",
       "    <tr>\n",
       "      <th>2</th>\n",
       "      <td>2013263</td>\n",
       "      <td>12:26:00</td>\n",
       "      <td>8744</td>\n",
       "      <td>25977</td>\n",
       "      <td>Agneta</td>\n",
       "      <td>Olofsson</td>\n",
       "      <td>60</td>\n",
       "      <td>Stockholm</td>\n",
       "      <td>agneta.olofsson@hotmail.com</td>\n",
       "      <td>1</td>\n",
       "      <td>304000</td>\n",
       "      <td>Clothing</td>\n",
       "      <td>Stockholm</td>\n",
       "      <td>SE</td>\n",
       "      <td>0</td>\n",
       "      <td>2.876316</td>\n",
       "      <td>12</td>\n",
       "      <td>Agneta Olofsson</td>\n",
       "      <td>0.0</td>\n",
       "      <td>hotmailcom</td>\n",
       "    </tr>\n",
       "    <tr>\n",
       "      <th>3</th>\n",
       "      <td>2009363</td>\n",
       "      <td>15:13:01</td>\n",
       "      <td>6779</td>\n",
       "      <td>31238</td>\n",
       "      <td>Agneta</td>\n",
       "      <td>Petersson</td>\n",
       "      <td>66</td>\n",
       "      <td>Stockholm</td>\n",
       "      <td>agneta.petersson@hotmail.com</td>\n",
       "      <td>1</td>\n",
       "      <td>76000</td>\n",
       "      <td>Electronics</td>\n",
       "      <td>Stockholm</td>\n",
       "      <td>SE</td>\n",
       "      <td>0</td>\n",
       "      <td>8.919737</td>\n",
       "      <td>15</td>\n",
       "      <td>Agneta Petersson</td>\n",
       "      <td>0.0</td>\n",
       "      <td>hotmailcom</td>\n",
       "    </tr>\n",
       "    <tr>\n",
       "      <th>4</th>\n",
       "      <td>1988563</td>\n",
       "      <td>16:08:04</td>\n",
       "      <td>4963</td>\n",
       "      <td>37499</td>\n",
       "      <td>Agneta</td>\n",
       "      <td>Karlsson</td>\n",
       "      <td>36</td>\n",
       "      <td>Lund</td>\n",
       "      <td>agn.karl@yahoo.se</td>\n",
       "      <td>0</td>\n",
       "      <td>228000</td>\n",
       "      <td>Tickets</td>\n",
       "      <td>Lund</td>\n",
       "      <td>FI</td>\n",
       "      <td>0</td>\n",
       "      <td>2.176754</td>\n",
       "      <td>16</td>\n",
       "      <td>Agneta Karlsson</td>\n",
       "      <td>0.4</td>\n",
       "      <td>yahoose</td>\n",
       "    </tr>\n",
       "  </tbody>\n",
       "</table>\n",
       "</div>"
      ],
      "text/plain": [
       "   transaction_id time_of_purchase  purchase_amount  customer_id   fname  \\\n",
       "0         2001563         16:52:11            15249         3941  Agneta   \n",
       "1         1997663         14:20:45             9334       122158  Agneta   \n",
       "2         2013263         12:26:00             8744        25977  Agneta   \n",
       "3         2009363         15:13:01             6779        31238  Agneta   \n",
       "4         1988563         16:08:04             4963        37499  Agneta   \n",
       "\n",
       "        lname  age  addr_city                         email  has_paid_before  \\\n",
       "0     Jansson   28  Stockholm    agneta.jansson@hotmail.com                1   \n",
       "1  Gustafsson   73      Malmo   agneta_gustafsson@gmail.com                0   \n",
       "2    Olofsson   60  Stockholm   agneta.olofsson@hotmail.com                1   \n",
       "3   Petersson   66  Stockholm  agneta.petersson@hotmail.com                1   \n",
       "4    Karlsson   36       Lund             agn.karl@yahoo.se                0   \n",
       "\n",
       "   annual_salary type_of_goods delivery_city ip_country  is_fraud  \\\n",
       "0              0      Clothing     Stockholm         SE         0   \n",
       "1         340000        Dating         Malmo         SE         0   \n",
       "2         304000      Clothing     Stockholm         SE         0   \n",
       "3          76000   Electronics     Stockholm         SE         0   \n",
       "4         228000       Tickets          Lund         FI         0   \n",
       "\n",
       "   purchase_div_salary purchase_hour          full_name  lev_distance  \\\n",
       "0            14.079045            16     Agneta Jansson           0.0   \n",
       "1             2.745294            14  Agneta Gustafsson           0.0   \n",
       "2             2.876316            12    Agneta Olofsson           0.0   \n",
       "3             8.919737            15   Agneta Petersson           0.0   \n",
       "4             2.176754            16    Agneta Karlsson           0.4   \n",
       "\n",
       "       domain  \n",
       "0  hotmailcom  \n",
       "1    gmailcom  \n",
       "2  hotmailcom  \n",
       "3  hotmailcom  \n",
       "4     yahoose  "
      ]
     },
     "execution_count": 50,
     "metadata": {},
     "output_type": "execute_result"
    }
   ],
   "source": [
    "df.head()"
   ]
  },
  {
   "cell_type": "markdown",
   "metadata": {},
   "source": [
    "## Creating a new DF to train ML models"
   ]
  },
  {
   "cell_type": "code",
   "execution_count": 51,
   "metadata": {},
   "outputs": [],
   "source": [
    "X_df = df[['purchase_amount',\n",
    "           'customer_id',\n",
    "           'age',\n",
    "           'addr_city',\n",
    "           'has_paid_before',\n",
    "           'annual_salary',\n",
    "           'delivery_city',\n",
    "           'ip_country',\n",
    "           'purchase_div_salary',\n",
    "           'purchase_hour',\n",
    "           'lev_distance',\n",
    "           'domain']].copy()\n",
    "\n",
    "y = df['is_fraud']"
   ]
  },
  {
   "cell_type": "code",
   "execution_count": 52,
   "metadata": {},
   "outputs": [],
   "source": [
    "X_df['purchase_hour'] = X_df['purchase_hour'].astype('int32')"
   ]
  },
  {
   "cell_type": "code",
   "execution_count": 53,
   "metadata": {},
   "outputs": [
    {
     "data": {
      "text/html": [
       "<div>\n",
       "<style scoped>\n",
       "    .dataframe tbody tr th:only-of-type {\n",
       "        vertical-align: middle;\n",
       "    }\n",
       "\n",
       "    .dataframe tbody tr th {\n",
       "        vertical-align: top;\n",
       "    }\n",
       "\n",
       "    .dataframe thead th {\n",
       "        text-align: right;\n",
       "    }\n",
       "</style>\n",
       "<table border=\"1\" class=\"dataframe\">\n",
       "  <thead>\n",
       "    <tr style=\"text-align: right;\">\n",
       "      <th></th>\n",
       "      <th>purchase_amount</th>\n",
       "      <th>customer_id</th>\n",
       "      <th>age</th>\n",
       "      <th>addr_city</th>\n",
       "      <th>has_paid_before</th>\n",
       "      <th>annual_salary</th>\n",
       "      <th>delivery_city</th>\n",
       "      <th>ip_country</th>\n",
       "      <th>purchase_div_salary</th>\n",
       "      <th>purchase_hour</th>\n",
       "      <th>lev_distance</th>\n",
       "      <th>domain</th>\n",
       "    </tr>\n",
       "  </thead>\n",
       "  <tbody>\n",
       "    <tr>\n",
       "      <th>0</th>\n",
       "      <td>15249</td>\n",
       "      <td>3941</td>\n",
       "      <td>28</td>\n",
       "      <td>Stockholm</td>\n",
       "      <td>1</td>\n",
       "      <td>0</td>\n",
       "      <td>Stockholm</td>\n",
       "      <td>SE</td>\n",
       "      <td>14.079045</td>\n",
       "      <td>16</td>\n",
       "      <td>0.0</td>\n",
       "      <td>hotmailcom</td>\n",
       "    </tr>\n",
       "    <tr>\n",
       "      <th>1</th>\n",
       "      <td>9334</td>\n",
       "      <td>122158</td>\n",
       "      <td>73</td>\n",
       "      <td>Malmo</td>\n",
       "      <td>0</td>\n",
       "      <td>340000</td>\n",
       "      <td>Malmo</td>\n",
       "      <td>SE</td>\n",
       "      <td>2.745294</td>\n",
       "      <td>14</td>\n",
       "      <td>0.0</td>\n",
       "      <td>gmailcom</td>\n",
       "    </tr>\n",
       "    <tr>\n",
       "      <th>2</th>\n",
       "      <td>8744</td>\n",
       "      <td>25977</td>\n",
       "      <td>60</td>\n",
       "      <td>Stockholm</td>\n",
       "      <td>1</td>\n",
       "      <td>304000</td>\n",
       "      <td>Stockholm</td>\n",
       "      <td>SE</td>\n",
       "      <td>2.876316</td>\n",
       "      <td>12</td>\n",
       "      <td>0.0</td>\n",
       "      <td>hotmailcom</td>\n",
       "    </tr>\n",
       "    <tr>\n",
       "      <th>3</th>\n",
       "      <td>6779</td>\n",
       "      <td>31238</td>\n",
       "      <td>66</td>\n",
       "      <td>Stockholm</td>\n",
       "      <td>1</td>\n",
       "      <td>76000</td>\n",
       "      <td>Stockholm</td>\n",
       "      <td>SE</td>\n",
       "      <td>8.919737</td>\n",
       "      <td>15</td>\n",
       "      <td>0.0</td>\n",
       "      <td>hotmailcom</td>\n",
       "    </tr>\n",
       "    <tr>\n",
       "      <th>4</th>\n",
       "      <td>4963</td>\n",
       "      <td>37499</td>\n",
       "      <td>36</td>\n",
       "      <td>Lund</td>\n",
       "      <td>0</td>\n",
       "      <td>228000</td>\n",
       "      <td>Lund</td>\n",
       "      <td>FI</td>\n",
       "      <td>2.176754</td>\n",
       "      <td>16</td>\n",
       "      <td>0.4</td>\n",
       "      <td>yahoose</td>\n",
       "    </tr>\n",
       "  </tbody>\n",
       "</table>\n",
       "</div>"
      ],
      "text/plain": [
       "   purchase_amount  customer_id  age  addr_city  has_paid_before  \\\n",
       "0            15249         3941   28  Stockholm                1   \n",
       "1             9334       122158   73      Malmo                0   \n",
       "2             8744        25977   60  Stockholm                1   \n",
       "3             6779        31238   66  Stockholm                1   \n",
       "4             4963        37499   36       Lund                0   \n",
       "\n",
       "   annual_salary delivery_city ip_country  purchase_div_salary  purchase_hour  \\\n",
       "0              0     Stockholm         SE            14.079045             16   \n",
       "1         340000         Malmo         SE             2.745294             14   \n",
       "2         304000     Stockholm         SE             2.876316             12   \n",
       "3          76000     Stockholm         SE             8.919737             15   \n",
       "4         228000          Lund         FI             2.176754             16   \n",
       "\n",
       "   lev_distance      domain  \n",
       "0           0.0  hotmailcom  \n",
       "1           0.0    gmailcom  \n",
       "2           0.0  hotmailcom  \n",
       "3           0.0  hotmailcom  \n",
       "4           0.4     yahoose  "
      ]
     },
     "execution_count": 53,
     "metadata": {},
     "output_type": "execute_result"
    }
   ],
   "source": [
    "X_df.head()"
   ]
  },
  {
   "cell_type": "code",
   "execution_count": 54,
   "metadata": {},
   "outputs": [],
   "source": [
    "X = pd.get_dummies(X_df, columns=['addr_city','delivery_city','ip_country','domain'], drop_first=True)"
   ]
  },
  {
   "cell_type": "markdown",
   "metadata": {},
   "source": [
    "# Models!"
   ]
  },
  {
   "cell_type": "code",
   "execution_count": 55,
   "metadata": {},
   "outputs": [],
   "source": [
    "#creating train and test sets\n",
    "X_train, X_test, y_train, y_test = train_test_split(X, y, test_size = 0.25,\n",
    "                                                    random_state = 0)"
   ]
  },
  {
   "cell_type": "markdown",
   "metadata": {},
   "source": [
    "### Random Forest "
   ]
  },
  {
   "cell_type": "code",
   "execution_count": 72,
   "metadata": {},
   "outputs": [],
   "source": [
    "forest = RandomForestClassifier(n_estimators=1000)\n",
    "forest.fit(X_train,y_train)\n",
    "y_pred = forest.predict(X_test)"
   ]
  },
  {
   "cell_type": "code",
   "execution_count": 73,
   "metadata": {},
   "outputs": [],
   "source": [
    "probs_forest = forest.predict_proba(X_test)[:, 1]"
   ]
  },
  {
   "cell_type": "code",
   "execution_count": 74,
   "metadata": {},
   "outputs": [
    {
     "data": {
      "text/html": [
       "<div>\n",
       "<style scoped>\n",
       "    .dataframe tbody tr th:only-of-type {\n",
       "        vertical-align: middle;\n",
       "    }\n",
       "\n",
       "    .dataframe tbody tr th {\n",
       "        vertical-align: top;\n",
       "    }\n",
       "\n",
       "    .dataframe thead th {\n",
       "        text-align: right;\n",
       "    }\n",
       "</style>\n",
       "<table border=\"1\" class=\"dataframe\">\n",
       "  <thead>\n",
       "    <tr style=\"text-align: right;\">\n",
       "      <th></th>\n",
       "      <th>Predicted Not Fraud</th>\n",
       "      <th>Predicted Fraud</th>\n",
       "    </tr>\n",
       "  </thead>\n",
       "  <tbody>\n",
       "    <tr>\n",
       "      <th>Not Fraud</th>\n",
       "      <td>2435</td>\n",
       "      <td>14</td>\n",
       "    </tr>\n",
       "    <tr>\n",
       "      <th>Fraud</th>\n",
       "      <td>36</td>\n",
       "      <td>85</td>\n",
       "    </tr>\n",
       "  </tbody>\n",
       "</table>\n",
       "</div>"
      ],
      "text/plain": [
       "           Predicted Not Fraud  Predicted Fraud\n",
       "Not Fraud                 2435               14\n",
       "Fraud                       36               85"
      ]
     },
     "execution_count": 74,
     "metadata": {},
     "output_type": "execute_result"
    }
   ],
   "source": [
    "cm = confusion_matrix(y_test,y_pred)\n",
    "forest_cm = pd.DataFrame(cm)\n",
    "forest_cm.rename(index={0:'Not Fraud', 1:'Fraud'}, columns={0:'Predicted Not Fraud', 1:'Predicted Fraud'})"
   ]
  },
  {
   "cell_type": "code",
   "execution_count": 76,
   "metadata": {},
   "outputs": [
    {
     "data": {
      "text/plain": [
       "array([[2435,   14],\n",
       "       [  36,   85]], dtype=int64)"
      ]
     },
     "execution_count": 76,
     "metadata": {},
     "output_type": "execute_result"
    }
   ],
   "source": [
    "cm"
   ]
  },
  {
   "cell_type": "code",
   "execution_count": 75,
   "metadata": {},
   "outputs": [
    {
     "name": "stdout",
     "output_type": "stream",
     "text": [
      "              precision    recall  f1-score   support\n",
      "\n",
      "           0     0.9854    0.9943    0.9898      2449\n",
      "           1     0.8586    0.7025    0.7727       121\n",
      "\n",
      "    accuracy                         0.9805      2570\n",
      "   macro avg     0.9220    0.8484    0.8813      2570\n",
      "weighted avg     0.9795    0.9805    0.9796      2570\n",
      "\n"
     ]
    }
   ],
   "source": [
    "print(classification_report(y_test, y_pred, digits=4))"
   ]
  },
  {
   "cell_type": "code",
   "execution_count": 83,
   "metadata": {},
   "outputs": [],
   "source": [
    "true_neg, false_pos, false_neg, true_pos = confusion_matrix(y_test,y_pred).ravel()"
   ]
  },
  {
   "cell_type": "code",
   "execution_count": 97,
   "metadata": {},
   "outputs": [
    {
     "name": "stdout",
     "output_type": "stream",
     "text": [
      "Fraud Rate after Random Forest: 1.48%\n"
     ]
    }
   ],
   "source": [
    "print('Fraud Rate after Random Forest: ',round(false_neg/true_neg * 100,2), '%', sep='')"
   ]
  },
  {
   "cell_type": "code",
   "execution_count": 98,
   "metadata": {},
   "outputs": [
    {
     "name": "stdout",
     "output_type": "stream",
     "text": [
      "Fraud Rate after Random Forest: 0.57%\n"
     ]
    }
   ],
   "source": [
    "print('Fraud Rate after Random Forest: ',round(false_pos/true_neg * 100,2), '%', sep='')"
   ]
  },
  {
   "cell_type": "code",
   "execution_count": null,
   "metadata": {},
   "outputs": [],
   "source": []
  }
 ],
 "metadata": {
  "kernelspec": {
   "display_name": "Python 3",
   "language": "python",
   "name": "python3"
  },
  "language_info": {
   "codemirror_mode": {
    "name": "ipython",
    "version": 3
   },
   "file_extension": ".py",
   "mimetype": "text/x-python",
   "name": "python",
   "nbconvert_exporter": "python",
   "pygments_lexer": "ipython3",
   "version": "3.8.5"
  }
 },
 "nbformat": 4,
 "nbformat_minor": 4
}
